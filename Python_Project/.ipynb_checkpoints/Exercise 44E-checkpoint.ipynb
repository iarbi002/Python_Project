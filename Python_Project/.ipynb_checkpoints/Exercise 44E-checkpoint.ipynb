{
 "cells": [
  {
   "cell_type": "code",
   "execution_count": 1,
   "metadata": {},
   "outputs": [
    {
     "name": "stdout",
     "output_type": "stream",
     "text": [
      "OTHER implicit()\n",
      "CHILD override()\n",
      "CHILD, BEFORE OTHER altered()\n",
      "OTHER altered()\n",
      "CHILD, AFTER OTHER altered()\n"
     ]
    }
   ],
   "source": [
    "class Other(object):\n",
    "\n",
    "    def override(self):\n",
    "        print(\"OTHER override()\")\n",
    "\n",
    "    def implicit(self):\n",
    "        print(\"OTHER implicit()\")\n",
    "\n",
    "    def altered(self):\n",
    "        print(\"OTHER altered()\")\n",
    "\n",
    "class Child(object):\n",
    "\n",
    "    def __init__(self):\n",
    "        self.other = Other()\n",
    "\n",
    "    def implicit(self):\n",
    "        self.other.implicit()\n",
    "    \n",
    "    def override(self):\n",
    "        print(\"CHILD override()\")\n",
    "\n",
    "    def altered(self):\n",
    "        print(\"CHILD, BEFORE OTHER altered()\")\n",
    "        self.other.altered()\n",
    "        print(\"CHILD, AFTER OTHER altered()\")\n",
    "\n",
    "son = Child()\n",
    "\n",
    "son.implicit()\n",
    "son.override()\n",
    "son.altered()"
   ]
  },
  {
   "cell_type": "code",
   "execution_count": null,
   "metadata": {},
   "outputs": [],
   "source": []
  }
 ],
 "metadata": {
  "kernelspec": {
   "display_name": "Python 3",
   "language": "python",
   "name": "python3"
  },
  "language_info": {
   "codemirror_mode": {
    "name": "ipython",
    "version": 3
   },
   "file_extension": ".py",
   "mimetype": "text/x-python",
   "name": "python",
   "nbconvert_exporter": "python",
   "pygments_lexer": "ipython3",
   "version": "3.6.5"
  }
 },
 "nbformat": 4,
 "nbformat_minor": 2
}
